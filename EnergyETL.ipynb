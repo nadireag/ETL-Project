{
 "cells": [
  {
   "cell_type": "markdown",
   "metadata": {},
   "source": [
    "### EnergyETL"
   ]
  },
  {
   "cell_type": "code",
   "execution_count": null,
   "metadata": {},
   "outputs": [],
   "source": [
    "# import dependencies\n",
    "import pandas as pd\n",
    "from sqlalchemy import create_engine"
   ]
  },
  {
   "cell_type": "code",
   "execution_count": null,
   "metadata": {},
   "outputs": [],
   "source": [
    "# read csv file\n",
    "file_path = \"Resources/us_potential_energy.csv\"\n",
    "\n",
    "# create the data frame \n",
    "energy_df = pd.read_csv(file_path)\n",
    "energy_df"
   ]
  },
  {
   "cell_type": "code",
   "execution_count": null,
   "metadata": {},
   "outputs": [],
   "source": [
    "# select the columns\n",
    "energy_df = energy_df[[\"Unnamed: 0\", \"urbanUtilityScalePV_GWh\",\"ruralUtilityScalePV_GWh\",\"rooftopPV_GWh\", \"CSP_GWh\",\"onshoreWind_GWh\",\"offshoreWind_GWh\", \"biopowerSolid_GWh\", \"biopowerGaseous_GWh\", \"geothermalHydrothermal_GWh\", \"EGSGeothermal_GWh\", \"hydropower_GWh\"]]\n",
    "                     \n",
    "# display the new dataframe\n",
    "energy_df"
   ]
  },
  {
   "cell_type": "code",
   "execution_count": null,
   "metadata": {},
   "outputs": [],
   "source": [
    "# rename the columns\n",
    "energy_df.columns=[\"State\", \"Urban_Solar\", \"Rural_Solar\", \"Rooftop_Solar\", \"CSP_Solar\", \"Onshore_Wind\", \"Offshore_Wind\", \"Biopower_Solid\", \"Biopower_Gaseous\", \"Geothermal_Hydrothermal\", \"EGS_Geothermal\", \"Hydropower\"]\n",
    "energy_df"
   ]
  },
  {
   "cell_type": "code",
   "execution_count": null,
   "metadata": {},
   "outputs": [],
   "source": [
    "# change NaN values to 0\n",
    "energy_df.fillna(0, inplace=True)\n",
    "energy_df"
   ]
  },
  {
   "cell_type": "code",
   "execution_count": null,
   "metadata": {},
   "outputs": [],
   "source": []
  },
  {
   "cell_type": "code",
   "execution_count": null,
   "metadata": {},
   "outputs": [],
   "source": []
  },
  {
   "cell_type": "markdown",
   "metadata": {},
   "source": [
    "### Scrape Wikipedia for the US Census Population Estimates"
   ]
  },
  {
   "cell_type": "code",
   "execution_count": null,
   "metadata": {},
   "outputs": [],
   "source": [
    "# Store the Wikipedia URL\n",
    "wiki_url = \"https://en.wikipedia.org/wiki/List_of_states_and_territories_of_the_United_States_by_population#cite_note-5\"\n",
    "\n",
    "# Use Pandas to scrape Wikipedia page for tables\n",
    "wiki_tables = pd.read_html(wiki_url)\n",
    "\n",
    "# Grab the first table\n",
    "pop_est_df = wiki_tables[0]\n",
    "\n",
    "# Grab the State & Population est. for 2018\n",
    "pop_est_df = pop_est_df[['Name', 'Population estimate, July 1, 2018[5]']]\n",
    "\n",
    "# Rename the columns\n",
    "pop_est_df = pop_est_df.rename(columns={\"Name\": \"State\", \"Population estimate, July 1, 2018[5]\": \"Population\"})\n",
    "\n",
    "# Display the new DataFrame\n",
    "pop_est_df.head()"
   ]
  },
  {
   "cell_type": "code",
   "execution_count": null,
   "metadata": {},
   "outputs": [],
   "source": []
  }
 ],
 "metadata": {
  "kernelspec": {
   "display_name": "Python [conda env:PythonData]",
   "language": "python",
   "name": "conda-env-PythonData-py"
  },
  "language_info": {
   "codemirror_mode": {
    "name": "ipython",
    "version": 3
   },
   "file_extension": ".py",
   "mimetype": "text/x-python",
   "name": "python",
   "nbconvert_exporter": "python",
   "pygments_lexer": "ipython3",
   "version": "3.6.9"
  }
 },
 "nbformat": 4,
 "nbformat_minor": 2
}
