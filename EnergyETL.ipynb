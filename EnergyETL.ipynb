{
 "cells": [
  {
   "cell_type": "markdown",
   "metadata": {},
   "source": [
    "### EnergyETL"
   ]
  },
  {
   "cell_type": "code",
   "execution_count": null,
   "metadata": {},
   "outputs": [],
   "source": [
    "# import dependencies\n",
    "import pandas as pd\n",
    "from sqlalchemy import create_engine"
   ]
  },
  {
   "cell_type": "code",
   "execution_count": null,
   "metadata": {},
   "outputs": [],
   "source": [
    "# read csv file\n",
    "file_path = \"Resources/us_potential_energy.csv\"\n",
    "\n",
    "# create the data frame \n",
    "energy_df = pd.read_csv(file_path)\n",
    "energy_df.head()"
   ]
  },
  {
   "cell_type": "code",
   "execution_count": null,
   "metadata": {},
   "outputs": [],
   "source": [
    "# select the columns\n",
    "energy_df = energy_df[[\"Unnamed: 0\", \"urbanUtilityScalePV_GWh\",\"ruralUtilityScalePV_GWh\",\"rooftopPV_GWh\", \"CSP_GWh\",\"onshoreWind_GWh\",\"offshoreWind_GWh\", \"biopowerSolid_GWh\", \"biopowerGaseous_GWh\", \"geothermalHydrothermal_GWh\", \"EGSGeothermal_GWh\", \"hydropower_GWh\"]]\n",
    "                     \n",
    "# display the new dataframe\n",
    "energy_df.head()"
   ]
  },
  {
   "cell_type": "code",
   "execution_count": null,
   "metadata": {},
   "outputs": [],
   "source": [
    "# rename the columns\n",
    "energy_df.columns=[\"State\", \"Urban_Solar\", \"Rural_Solar\", \"Rooftop_Solar\", \"CSP_Solar\", \"Onshore_Wind\", \"Offshore_Wind\", \"Biopower_Solid\", \"Biopower_Gaseous\", \"Geothermal_Hydrothermal\", \"EGS_Geothermal\", \"Hydropower\"]\n",
    "energy_df.head()"
   ]
  },
  {
   "cell_type": "code",
   "execution_count": null,
   "metadata": {},
   "outputs": [],
   "source": [
    "# change NaN values to 0\n",
    "energy_df.fillna(0, inplace=True)\n",
    "energy_df.head()"
   ]
  },
  {
   "cell_type": "code",
   "execution_count": null,
   "metadata": {},
   "outputs": [],
   "source": [
    "#output clean data frame to csv\n",
    "potential_energy = \"Resources/us_potential_energy(clean).csv\"\n",
    "energy_df.to_csv(potential_energy,index=False)"
   ]
  },
  {
   "cell_type": "code",
   "execution_count": null,
   "metadata": {},
   "outputs": [],
   "source": []
  },
  {
   "cell_type": "code",
   "execution_count": null,
   "metadata": {},
   "outputs": [],
   "source": []
  },
  {
   "cell_type": "markdown",
   "metadata": {},
   "source": [
    "### Scrape Wikipedia for the US Census Population Estimates"
   ]
  },
  {
   "cell_type": "code",
   "execution_count": null,
   "metadata": {},
   "outputs": [],
   "source": [
    "# Store the Wikipedia URL\n",
    "wiki_url = \"https://en.wikipedia.org/wiki/List_of_states_and_territories_of_the_United_States_by_population#cite_note-5\"\n",
    "\n",
    "# Use Pandas to scrape Wikipedia page for tables\n",
    "wiki_tables = pd.read_html(wiki_url)\n",
    "\n",
    "# Grab the first table\n",
    "pop_est_df = wiki_tables[0]\n",
    "\n",
    "# Grab the State & Population est. for 2018\n",
    "pop_est_df = pop_est_df[['Name', 'Population estimate, July 1, 2018[5]']]\n",
    "\n",
    "# Rename the columns\n",
    "pop_est_df = pop_est_df.rename(columns={\"Name\": \"State\", \"Population estimate, July 1, 2018[5]\": \"Population\"})\n",
    "\n",
    "# Drop the Territories\n",
    "pop_est_df = pop_est_df[0:52]\n",
    "\n",
    "# Display the new DataFrame\n",
    "pop_est_df.tail()"
   ]
  },
  {
   "cell_type": "code",
   "execution_count": null,
   "metadata": {},
   "outputs": [],
   "source": []
  },
  {
   "cell_type": "code",
   "execution_count": null,
   "metadata": {},
   "outputs": [],
   "source": [
    "# Read in Energy Consumption csv\n",
    "tot_consum_csv = \"Resources/total_energy_consumed.csv\"\n",
    "\n",
    "# Create the Consumption DataFrame\n",
    "tot_consum_df = pd.read_csv(tot_consum_csv)\n",
    "\n",
    "# Join Population and Total Energy Consumed DataFrames\n",
    "tot_consum_df = tot_consum_df.merge(pop_est_df, on='State',how=\"inner\")\n",
    "\n",
    "#convert BTU's to Gigawatt hours\n",
    "tot_energy_gwh = tot_consum_df['Total_Energy_Consumed'] * 1000000 * 0.00000000029 * tot_consum_df['Population']\n",
    "\n",
    "#add Gigawatt hours to dataframe\n",
    "tot_consum_df['Total_Energy_Consumed_Gwh'] = tot_energy_gwh\n",
    "tot_consum_df = tot_consum_df[['Rank','State','Total_Energy_Consumed_Gwh']]\n",
    "tot_consum_df.head()"
   ]
  },
  {
   "cell_type": "code",
   "execution_count": null,
   "metadata": {},
   "outputs": [],
   "source": [
    "#connect to database\n",
    "import config.py\n",
    "engine = create_engine(sqldb_connect)"
   ]
  },
  {
   "cell_type": "code",
   "execution_count": null,
   "metadata": {},
   "outputs": [],
   "source": [
    "#copy dataframes into database tables\n",
    "pop_est_df.to_sql('state_population', con=engine, if_exists='replace')\n",
    "energy_df.to_sql('energy_renewable', con=engine, if_exists='replace')\n",
    "tot_consum_df.to_sql('energy_consumption', con=engine, if_exists='replace')"
   ]
  },
  {
   "cell_type": "code",
   "execution_count": null,
   "metadata": {},
   "outputs": [],
   "source": [
    "#calcuate total renewable energy potential & add to master dataframe\n",
    "renewable_master_df = energy_df.set_index('State')\n",
    "renewable_master_sum = renewable_master_df.sum(axis=1)\n",
    "renewable_master_df = pd.DataFrame(renewable_master_sum)\n",
    "renewable_master_df = renewable_master_df.rename(columns={0:'Total Renewable'})\n",
    "energy_master_df = tot_consum_df.merge(renewable_master_df, on='State')\n",
    "energy_master_df.head()"
   ]
  },
  {
   "cell_type": "code",
   "execution_count": null,
   "metadata": {},
   "outputs": [],
   "source": [
    "#calcuate difference in renewable energy potential & consumption\n",
    "#add to master dataframe\n",
    "energy_diff = energy_master_df['Total Renewable'] - energy_master_df['Total_Energy_Consumed_Gwh']\n",
    "energy_master_df['Energy Difference'] = energy_diff\n",
    "\n",
    "energy_master_df.head()"
   ]
  },
  {
   "cell_type": "code",
   "execution_count": null,
   "metadata": {},
   "outputs": [],
   "source": [
    "#output data frame to csv\n",
    "energy_compare = \"Resources/energy_totals_comparison.csv\"\n",
    "energy_master_df.to_csv(energy_compare,index=False)\n",
    "\n",
    "#copy dataframe into database tables\n",
    "energy_master_df.to_sql('energy_compare', con=engine, if_exists='replace')"
   ]
  },
  {
   "cell_type": "code",
   "execution_count": null,
   "metadata": {},
   "outputs": [],
   "source": [
    "#Query database to find states with negative energy difference values\n",
    "not_100_renew = engine.execute('select \"State\" from energy_compare where \"Energy Difference\" < 0').fetchall()\n",
    "not_100_renew = [states[0] for states in not_100_renew]\n",
    "\n",
    "#output query results\n",
    "print('The following states do not have sufficient potential sources of renewable energy to meet their current energy consumption:')\n",
    "for state in not_100_renew:\n",
    "    print(state)\n"
   ]
  }
 ],
 "metadata": {
  "kernelspec": {
   "display_name": "Python [conda env:PythonData]",
   "language": "python",
   "name": "conda-env-PythonData-py"
  },
  "language_info": {
   "codemirror_mode": {
    "name": "ipython",
    "version": 3
   },
   "file_extension": ".py",
   "mimetype": "text/x-python",
   "name": "python",
   "nbconvert_exporter": "python",
   "pygments_lexer": "ipython3",
   "version": "3.6.9"
  }
 },
 "nbformat": 4,
 "nbformat_minor": 2
}
